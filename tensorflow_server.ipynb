{
  "nbformat": 4,
  "nbformat_minor": 0,
  "metadata": {
    "colab": {
      "name": "tensorflow_server.ipynb",
      "provenance": []
    },
    "kernelspec": {
      "name": "python3",
      "display_name": "Python 3"
    },
    "language_info": {
      "name": "python"
    }
  },
  "cells": [
    {
      "cell_type": "markdown",
      "source": [
        "Tensorflow is very useful to create, manage our models for deep learning, today we gonna test Tensorflow Server serving our models over the web and make it available like a Rest API"
      ],
      "metadata": {
        "id": "TtY56Ey3bbt4"
      }
    },
    {
      "cell_type": "markdown",
      "source": [
        "Importing the libraries"
      ],
      "metadata": {
        "id": "PtTL1fWabiZl"
      }
    },
    {
      "cell_type": "code",
      "source": [
        "import tensorflow as tf\n",
        "import numpy as np\n",
        "import os"
      ],
      "metadata": {
        "id": "436oz9zEbfTg"
      },
      "execution_count": 2,
      "outputs": []
    },
    {
      "cell_type": "markdown",
      "source": [
        "Creating a dataset"
      ],
      "metadata": {
        "id": "wlZly2ZcbnPW"
      }
    },
    {
      "cell_type": "code",
      "source": [
        "X = np.arange(-10.0, 10.0, 1e-2)\n",
        "np.random.shuffle(X)\n",
        "y = 2 * X + 1\n",
        "\n",
        "train_end = int(0.6 * len(X))\n",
        "test_start = int(0.8 * len(X))\n",
        "\n",
        "X_train, y_train = X[:train_end], y[:train_end]\n",
        "X_test, y_test = X[test_start:], y[test_start:]\n",
        "X_val, y_val = X[train_end:test_start], y[train_end:test_start] "
      ],
      "metadata": {
        "id": "bsflKSk2bkTF"
      },
      "execution_count": 3,
      "outputs": []
    },
    {
      "cell_type": "markdown",
      "source": [
        "Now let's create our model "
      ],
      "metadata": {
        "id": "XY7JlxL4bqxB"
      }
    },
    {
      "cell_type": "code",
      "source": [
        "tf.keras.backend.clear_session()\n",
        "linear_model = tf.keras.models.Sequential([\n",
        "                                        tf.keras.layers.Dense(units=1, input_shape=[1], name='Single')\n",
        "                                        ])\n",
        "linear_model.compile(optimizer=tf.keras.optimizers.SGD(), loss=tf.keras.losses.mean_squared_error)\n",
        "linear_model.summary()"
      ],
      "metadata": {
        "colab": {
          "base_uri": "https://localhost:8080/"
        },
        "id": "hbgygKVibo1c",
        "outputId": "249500e8-d7ba-489c-c0de-4ed1476fa84a"
      },
      "execution_count": 4,
      "outputs": [
        {
          "output_type": "stream",
          "name": "stdout",
          "text": [
            "Model: \"sequential\"\n",
            "_________________________________________________________________\n",
            " Layer (type)                Output Shape              Param #   \n",
            "=================================================================\n",
            " Single (Dense)              (None, 1)                 2         \n",
            "                                                                 \n",
            "=================================================================\n",
            "Total params: 2\n",
            "Trainable params: 2\n",
            "Non-trainable params: 0\n",
            "_________________________________________________________________\n"
          ]
        }
      ]
    },
    {
      "cell_type": "markdown",
      "source": [
        "Now let's train our model"
      ],
      "metadata": {
        "id": "mOFYy3VBbv4s"
      }
    },
    {
      "cell_type": "code",
      "source": [
        "linear_model.fit(X_train, y_train, validation_data=(X_val, y_val), epochs=20)\n",
        "print(linear_model.evaluate(X_test, y_test, verbose=0))\n",
        "print(round(linear_model.predict([7.443]).tolist()[0][0], 4))    # expected: 15.886"
      ],
      "metadata": {
        "colab": {
          "base_uri": "https://localhost:8080/"
        },
        "id": "mGUjokTfbs7Q",
        "outputId": "1c5942b1-d1cd-4a28-d692-27642dbef98e"
      },
      "execution_count": 5,
      "outputs": [
        {
          "output_type": "stream",
          "name": "stdout",
          "text": [
            "Epoch 1/20\n",
            "38/38 [==============================] - 1s 6ms/step - loss: 9.6527 - val_loss: 0.1864\n",
            "Epoch 2/20\n",
            "38/38 [==============================] - 0s 2ms/step - loss: 0.0999 - val_loss: 0.0404\n",
            "Epoch 3/20\n",
            "38/38 [==============================] - 0s 2ms/step - loss: 0.0215 - val_loss: 0.0094\n",
            "Epoch 4/20\n",
            "38/38 [==============================] - 0s 3ms/step - loss: 0.0046 - val_loss: 0.0019\n",
            "Epoch 5/20\n",
            "38/38 [==============================] - 0s 3ms/step - loss: 0.0010 - val_loss: 4.2211e-04\n",
            "Epoch 6/20\n",
            "38/38 [==============================] - 0s 4ms/step - loss: 2.1787e-04 - val_loss: 9.0779e-05\n",
            "Epoch 7/20\n",
            "38/38 [==============================] - 0s 7ms/step - loss: 4.6396e-05 - val_loss: 2.0395e-05\n",
            "Epoch 8/20\n",
            "38/38 [==============================] - 0s 5ms/step - loss: 9.9769e-06 - val_loss: 5.2215e-06\n",
            "Epoch 9/20\n",
            "38/38 [==============================] - 0s 5ms/step - loss: 2.1868e-06 - val_loss: 8.7347e-07\n",
            "Epoch 10/20\n",
            "38/38 [==============================] - 0s 2ms/step - loss: 4.6122e-07 - val_loss: 1.8785e-07\n",
            "Epoch 11/20\n",
            "38/38 [==============================] - 0s 3ms/step - loss: 1.0122e-07 - val_loss: 4.2359e-08\n",
            "Epoch 12/20\n",
            "38/38 [==============================] - 0s 3ms/step - loss: 2.1476e-08 - val_loss: 8.7010e-09\n",
            "Epoch 13/20\n",
            "38/38 [==============================] - 0s 2ms/step - loss: 4.6495e-09 - val_loss: 1.9157e-09\n",
            "Epoch 14/20\n",
            "38/38 [==============================] - 0s 3ms/step - loss: 1.0099e-09 - val_loss: 4.5260e-10\n",
            "Epoch 15/20\n",
            "38/38 [==============================] - 0s 4ms/step - loss: 2.1712e-10 - val_loss: 9.6450e-11\n",
            "Epoch 16/20\n",
            "38/38 [==============================] - 0s 2ms/step - loss: 4.6853e-11 - val_loss: 1.6170e-11\n",
            "Epoch 17/20\n",
            "38/38 [==============================] - 0s 2ms/step - loss: 1.0769e-11 - val_loss: 3.7522e-12\n",
            "Epoch 18/20\n",
            "38/38 [==============================] - 0s 3ms/step - loss: 2.3397e-12 - val_loss: 1.8564e-12\n",
            "Epoch 19/20\n",
            "38/38 [==============================] - 0s 2ms/step - loss: 1.9129e-12 - val_loss: 1.8564e-12\n",
            "Epoch 20/20\n",
            "38/38 [==============================] - 0s 2ms/step - loss: 1.9141e-12 - val_loss: 1.8220e-12\n",
            "1.8505915116290295e-12\n",
            "15.886\n"
          ]
        }
      ]
    },
    {
      "cell_type": "markdown",
      "source": [
        "Finally let's save our model locally"
      ],
      "metadata": {
        "id": "6bD7ihzdb0uN"
      }
    },
    {
      "cell_type": "code",
      "source": [
        "export_path = 'linear_model/1/'\n",
        "tf.saved_model.save(linear_model, export_path)"
      ],
      "metadata": {
        "colab": {
          "base_uri": "https://localhost:8080/"
        },
        "id": "PekOurT-byWJ",
        "outputId": "073cf3a5-d6d8-4005-9812-6e0efbc7dfc5"
      },
      "execution_count": 6,
      "outputs": [
        {
          "output_type": "stream",
          "name": "stderr",
          "text": [
            "WARNING:absl:Function `_wrapped_model` contains input name(s) Single_input with unsupported characters which will be renamed to single_input in the SavedModel.\n"
          ]
        },
        {
          "output_type": "stream",
          "name": "stdout",
          "text": [
            "INFO:tensorflow:Assets written to: linear_model/1/assets\n"
          ]
        },
        {
          "output_type": "stream",
          "name": "stderr",
          "text": [
            "INFO:tensorflow:Assets written to: linear_model/1/assets\n"
          ]
        }
      ]
    },
    {
      "cell_type": "markdown",
      "source": [
        "Next part gonna be preparing our docker container to host our model and make it acessible by a RestAPI Call"
      ],
      "metadata": {
        "id": "jg0MQCyib68a"
      }
    }
  ]
}
